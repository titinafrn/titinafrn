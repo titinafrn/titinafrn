{
  "nbformat": 4,
  "nbformat_minor": 0,
  "metadata": {
    "colab": {
      "provenance": []
    },
    "kernelspec": {
      "name": "python3",
      "display_name": "Python 3"
    },
    "language_info": {
      "name": "python"
    }
  },
  "cells": [
    {
      "cell_type": "code",
      "execution_count": 1,
      "metadata": {
        "colab": {
          "base_uri": "https://localhost:8080/"
        },
        "id": "6KJVm3UFuGqH",
        "outputId": "101630f6-65aa-4620-e710-5ddc3c94532a"
      },
      "outputs": [
        {
          "output_type": "stream",
          "name": "stdout",
          "text": [
            "belajar Python menyenangkan\n",
            "hallo dunia\n"
          ]
        }
      ],
      "source": [
        "print(\"belajar Python menyenangkan\")\n",
        "print(\"hallo dunia\")"
      ]
    },
    {
      "cell_type": "code",
      "source": [
        "bilangan1 = 5\n",
        "bilangan2 = 10\n",
        "kalimat = \"Pejuang Data 3\"\n",
        "bilangan1 + bilangan2"
      ],
      "metadata": {
        "colab": {
          "base_uri": "https://localhost:8080/"
        },
        "id": "C3JZFjVouSVY",
        "outputId": "a39c0a87-6e42-4fe0-98b8-b1e8871ee772"
      },
      "execution_count": 3,
      "outputs": [
        {
          "output_type": "execute_result",
          "data": {
            "text/plain": [
              "15"
            ]
          },
          "metadata": {},
          "execution_count": 3
        }
      ]
    },
    {
      "cell_type": "code",
      "source": [
        "# Ini adalah Comment\n",
        "print(\"belajar Phyton\")"
      ],
      "metadata": {
        "colab": {
          "base_uri": "https://localhost:8080/"
        },
        "id": "7OD3qVUrvOHR",
        "outputId": "e5418be2-bc99-4b20-9c84-5e64f7484fdf"
      },
      "execution_count": 6,
      "outputs": [
        {
          "output_type": "stream",
          "name": "stdout",
          "text": [
            "belajar Phyton\n"
          ]
        }
      ]
    },
    {
      "cell_type": "code",
      "source": [
        "'''\n",
        "Ini adalah komentar panjang\n",
        "Bisa digunakan untuk memberikan penjelasan\n",
        "panjang pada Sell Kode Phyton,\n",
        "Misal dokumentasi program, spesifikasi\n",
        "input output atau lainnya\n",
        "'''\n",
        "print('Belajar Phyton menyenangkan')"
      ],
      "metadata": {
        "colab": {
          "base_uri": "https://localhost:8080/"
        },
        "id": "qgTFhFBwvW9S",
        "outputId": "cb178515-057d-4f5c-8301-074f18c5d2a9"
      },
      "execution_count": 10,
      "outputs": [
        {
          "output_type": "stream",
          "name": "stdout",
          "text": [
            "Belajar Phyton menyenangkan\n"
          ]
        }
      ]
    }
  ]
}